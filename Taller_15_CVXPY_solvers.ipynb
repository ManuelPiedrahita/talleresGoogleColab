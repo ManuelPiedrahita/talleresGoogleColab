{
  "nbformat": 4,
  "nbformat_minor": 0,
  "metadata": {
    "colab": {
      "provenance": [],
      "authorship_tag": "ABX9TyOZNnYYs1izYE75G+Xb0hvj",
      "include_colab_link": true
    },
    "kernelspec": {
      "name": "python3",
      "display_name": "Python 3"
    },
    "language_info": {
      "name": "python"
    }
  },
  "cells": [
    {
      "cell_type": "markdown",
      "metadata": {
        "id": "view-in-github",
        "colab_type": "text"
      },
      "source": [
        "<a href=\"https://colab.research.google.com/github/gabrielawad/talleresGoogleColab/blob/main/Taller_15_CVXPY_solvers.ipynb\" target=\"_parent\"><img src=\"https://colab.research.google.com/assets/colab-badge.svg\" alt=\"Open In Colab\"/></a>"
      ]
    },
    {
      "cell_type": "markdown",
      "source": [
        "## «*Hay personas que tienen la memoria muy llena, pero el juicio muy vacío y hueco*».\n",
        "### [Miguel de Montaigne](https://es.wikipedia.org/wiki/Michel_de_Montaigne)"
      ],
      "metadata": {
        "id": "VLMDjD3tAVeA"
      }
    },
    {
      "cell_type": "markdown",
      "source": [
        "# Taller 15 CVXPY solvers\n",
        "\n"
      ],
      "metadata": {
        "id": "bx-omGjwAXa3"
      }
    },
    {
      "metadata": {
        "id": "TgMEgpBeAJDW"
      },
      "cell_type": "markdown",
      "source": [
        "# Características generales de CVXPY\n",
        "\n",
        "CVXPY  es un lenguaje de modelado para [optimización de problemas convexos](https://web.stanford.edu/~boyd/cvxbook/), que funciona como una librería de Python.\n",
        "\n",
        "Su principal ventaja es que permite la formulación de problemas por medio de expresiones algebraicas o matriciales. CVXPY automáticamente transforma el problema a su forma estándar, lo resuelve por medio de un  [solvers](https://en.wikipedia.org/wiki/Solver), y entrega los resultados.\n",
        "\n",
        "Es decir, simplifica el proceso de optimización computacional ya que es capaz de resolver el problema sin necesidad de convertirlo a las formas estándares requeridas por los [solvers](https://en.wikipedia.org/wiki/Solver).\n",
        "\n",
        "## Página oficial\n",
        "La información oficial de CVXPY puede ser consultada en [www.cvxpy.org](http://www.cvxpy.org)"
      ]
    },
    {
      "metadata": {
        "id": "Triiphpbl1WE"
      },
      "cell_type": "markdown",
      "source": [
        "# Estados de un problema\n",
        "\n",
        "CVXPY identifica los siguientes estados en la solución de un problema:\n",
        "* OPTIMAL  (se encontró al menos una solución óptima)\n",
        "* INFEASIBLE (no se encontraron soluciones factibles)\n",
        "* UNBOUNDED (se encontró una solución indeterminada)\n",
        "* OPTIMAL_INACCURATE (se encontró al menos una solución óptima, **pero el nivel de precisión es inferior al deseado**)\n",
        "* INFEASIBLE_INACCURATE (no se encontraron soluciones factibles **y el nivel de precisión es inferior al deseado**)\n",
        "* UNBOUNDED_INACCURATE  (se encontró una solución indeterminada **y el nivel de precisión es inferior al deseado**)\n",
        "\n",
        "En los casos diferentes a estados **OPTIMAL** se sugiere revisar la formulación del problema y los valores de los parámetros.\n",
        "\n",
        "En los casos de estados **INACCURATE** de la solución se recomienda ensayar a resolver el problema utilizando otro solver.\n"
      ]
    },
    {
      "metadata": {
        "id": "PmRGg5-LrauO"
      },
      "cell_type": "markdown",
      "source": [
        "# Gestión de solvers\n",
        "\n",
        "CVXPY utiliza open source solvers como [OSQP](https://osqp.org), [ECOS](https://www.embotech.com/ECOS), [ECOS_BB](https://github.com/embotech/ecos#mixed-integer-socps-ecos_bb) y [SCS](https://github.com/cvxgrp/scs). Si se desea utilizar otros solvers ([CVXOPT](http://cvxopt.org), [GLPK](https://www.gnu.org/software/glpk/),  [CBC](https://projects.coin-or.org/Cbc),  [MOSEK](https://www.mosek.com),  [GUROBI](http://www.gurobi.com)) se debe instalar cada uno de ellos de manera adicional.\n",
        "El código que se presenta a continuación  resuelve el mismo ejercicio utilizando cuatro solvers diferentes. Analice los valores obtenidos tanto para la solución óptima como para las variables de decisión."
      ]
    },
    {
      "metadata": {
        "id": "CalVP518ri5g"
      },
      "cell_type": "code",
      "source": [
        "# Este programa presenta la solución de un ejercicio de optimización\n",
        "# utilizando cuatro solvers\n",
        "\n",
        "# Importar la librería que se va a utilizar\n",
        "import cvxpy as cvx\n",
        "\n",
        "# Crear las variables a optimizar\n",
        "x = cvx.Variable()\n",
        "y = cvx.Variable()\n",
        "\n",
        "# Definir la función objetivo\n",
        "obj = cvx.Minimize(3*x + 8*y)\n",
        "\n",
        "# Establecer las restricciones\n",
        "constraints = [\n",
        "x + y >= 50,\n",
        "x - y <= 20,\n",
        "x >= 0,\n",
        "y >= 0\n",
        "]\n",
        "\n",
        "# Configurar el problema\n",
        "prob_ej = cvx.Problem(obj, constraints)\n",
        "\n",
        "# Obtener el valor óptimo, actualizar el estado del problema y los valores\n",
        "# de todas las variables del problema\n",
        "prob_ej.solve()\n",
        "\n",
        "print (\"Soluciones sin especificar el solver\")\n",
        "\n",
        "# Mostrar el estado de la solución sin especificar el solver\n",
        "print(\"Estado de la solución sin especificar el solver:\", prob_ej.status)\n",
        "\n",
        "# Mostrar el valor óptimo de la función objetivo sin especificar el solver\n",
        "print(\"Valor óptimo de la función objetivo sin especificar el solver:\",\n",
        "      prob_ej.value)\n",
        "\n",
        "# Mostrar los valores óptimos de las variables de decisión sin especificar\n",
        "# el solver\n",
        "print(\"Valores óptimos de las variables de decisión sin especificar el solver:\",\n",
        "      x.value, y.value, \"\\n\")\n",
        "\n",
        "# Soluciones con OSQP\n",
        "print (\"Soluciones con OSQP\")\n",
        "\n",
        "# Resolver con OSQP\n",
        "prob_ej.solve(solver=cvx.OSQP)\n",
        "\n",
        "# Mostrar el estado de la solución con OSQP\n",
        "print(\"Estado de la solución con OSQP:\", prob_ej.status)\n",
        "\n",
        "print(\"Valor óptimo de la función objetivo con OSQP:\", prob_ej.value)\n",
        "\n",
        "# Mostrar los valores óptimos de las variables de decisión con OSQP\n",
        "print(\"Valores óptimos de las variables de decisión con OSQP:\",\n",
        "      x.value, y.value, \"\\n\")\n",
        "\n",
        "# Soluciones con ECOS\n",
        "print (\"Soluciones con ECOS\")\n",
        "\n",
        "# Resolver con ECOS\n",
        "prob_ej.solve(solver=cvx.ECOS)\n",
        "\n",
        "# Mostrar el estado de la solución con ECOS\n",
        "print(\"Estado de la solución con ECOS:\", prob_ej.status)\n",
        "\n",
        "print(\"Valor óptimo de la función objetivo con ECOS:\", prob_ej.value)\n",
        "\n",
        "# Mostrar los valores óptimos de las variables de decisión con ECOS\n",
        "print(\"Valores óptimos de las variables de decisión con ECOS:\",\n",
        "      x.value, y.value, \"\\n\")\n",
        "\n",
        "# Soluciones con ECOS_BB\n",
        "print (\"Soluciones con ECOS_BB\")\n",
        "\n",
        "# Resolver con ECOS_BB\n",
        "prob_ej.solve(solver=cvx.ECOS_BB)\n",
        "\n",
        "# Mostrar el estado de la solución  con ECOS_BB\n",
        "print(\"Estado de la solución con ECOS_BB:\", prob_ej.status)\n",
        "\n",
        "print(\"Valor óptimo de la función objetivo con ECOS_BB:\", prob_ej.value)\n",
        "\n",
        "# Mostrar los valores óptimos de las variables de decisión con ECOS_BB\n",
        "print(\"Valores óptimos de las variables de decisión con ECOS_BB:\",\n",
        "      x.value, y.value, \"\\n\")\n",
        "\n",
        "# Soluciones con SCS\n",
        "print (\"Soluciones con SCS\")\n",
        "\n",
        "# Resolver con SCS\n",
        "prob_ej.solve(solver=cvx.SCS)\n",
        "\n",
        "# Mostrar el estado de la solución  con SCS\n",
        "print(\"Estado de la solución con SCS:\", prob_ej.status)\n",
        "\n",
        "print(\"Valor óptimo de la función objetivo con SCS:\", prob_ej.value)\n",
        "\n",
        "# Mostrar los valores óptimos de las variables de decisión con SCS\n",
        "print(\"Valores óptimos de las variables de decisión con SCS:\",\n",
        "      x.value, y.value, \"\\n\")"
      ],
      "execution_count": null,
      "outputs": []
    },
    {
      "metadata": {
        "id": "39n80aHZ75WO"
      },
      "cell_type": "markdown",
      "source": [
        "# Problema inicial: problema00 resuelto directamente por CVXPY\n",
        "\n",
        "Max Z = 8\\* x + 5\\* y\n",
        "\n",
        "   x   +   y    <=  6\n",
        "   \n",
        "   9 \\* x       + 5\\* y        < =  45\n",
        "\n",
        "   x   > = 0      \n",
        "\n",
        "   y   >=  0\n",
        "\n",
        "**x, y enteros**\n"
      ]
    },
    {
      "metadata": {
        "id": "EPmwVAHU75WO"
      },
      "cell_type": "code",
      "source": [
        "# Importar la librería que se va a utilizar\n",
        "import cvxpy as cvx\n",
        "\n",
        "# Crear las variables a optimizar y establecerlas como enteros\n",
        "x = cvx.Variable(integer=True)\n",
        "y = cvx.Variable(integer=True)\n",
        "\n",
        "# Definir la función objetivo para maximizar el ingreso\n",
        "obj = cvx.Maximize(8*x + 5*y)\n",
        "\n",
        "# Establecer las restricciones\n",
        "restricciones_int = [\n",
        "\n",
        "# Primera restricción\n",
        "x + y <= 6,\n",
        "\n",
        "# Segunda restricción\n",
        "9*x + 5*y <= 45,\n",
        "\n",
        "# Restricciones de no negatividad\n",
        "x >= 0,\n",
        "y >= 0\n",
        "]\n",
        "\n",
        "# Configurar el problema\n",
        "prob_int = cvx.Problem(obj, restricciones_int)\n",
        "\n",
        "# Obtener el valor óptimo\n",
        "prob_int.solve()\n",
        "\n",
        "# Mostrar el estado de la solución y el valor óptimo de la función objetivo\n",
        "print(\"Estado de la solución:\", prob_int.status)\n",
        "print(\"Valor máximo:\", \"%.2f\"% prob_int.value)\n",
        "\n",
        "# Mostrar los valores óptimos de las variables de decisión\n",
        "print (\"Valor óptimo de x:\", \"%.2f\"% x.value)\n",
        "print(\"Valor óptimo de y:\", \"%.2f\"% y.value, \"\\n\")\n",
        "\n",
        "# Soluciones con ECOS_BB\n",
        "print (\"Soluciones con ECOS_BB\")\n",
        "\n",
        "# Resolver con ECOS_bb\n",
        "prob_int.solve(solver=cvx.ECOS_BB, mi_max_iters = 1000,\n",
        "               mi_abs_eps= 1e-6, mi_rel_eps = 1e-3, verbose = True)\n",
        "\n",
        "# prob_int.solve(solver=cvx.ECOS_BB, mi_max_iters = 1000,\n",
        "#               mi_abs_eps= 1e-6, mi_rel_eps = 1e-3)\n",
        "\n",
        "# Mostrar el estado de la solución  con ECOS_BB\n",
        "print(\"Estado de la solución con ECOS_BB:\", prob_int.status)\n",
        "\n",
        "print(\"Valor óptimo de la función objetivo con ECOS_BB:\", prob_int.value)\n",
        "\n",
        "# Mostrar los valores óptimos de las variables de decisión con ECOS_BB\n",
        "print(\"Valores óptimos de las variables de decisión con ECOS_BB:\",\n",
        "      x.value, y.value, \"\\n\")"
      ],
      "execution_count": null,
      "outputs": []
    },
    {
      "cell_type": "markdown",
      "source": [
        "# MOSEK"
      ],
      "metadata": {
        "id": "-L05yTO_mQ3n"
      }
    },
    {
      "cell_type": "markdown",
      "source": [
        "## Aviso importante\n",
        "\n",
        "Antes de ejecutar cvxpy con el solver MOSEK es necesario subir el archivo con la licencia de MOSEK (mosek.lic) para crear la ruta /root/mosek/mosek.lic\n",
        "\n",
        "**Este paso hay que repetirlo cada vez que se vaya a utilizar MOSEK porque desaparece cuando se reinicia el entorno de ejecución**.\n",
        "\n",
        "En el siguiente enlace puede solicitar una licencia académica **gratuita** de MOSEK: [MOSEK Academic Licenses](https://www.mosek.com/products/academic-licenses/)"
      ],
      "metadata": {
        "id": "P6trz1A2G1DT"
      }
    },
    {
      "cell_type": "markdown",
      "source": [
        "## Instalar MOSEK"
      ],
      "metadata": {
        "id": "0XUIesHJmERV"
      }
    },
    {
      "cell_type": "code",
      "source": [
        "# Instalar MOSEK en Google Colab\n",
        "!pip install mosek"
      ],
      "metadata": {
        "id": "ooc0H5xOqtus"
      },
      "execution_count": null,
      "outputs": []
    },
    {
      "cell_type": "markdown",
      "source": [
        "## Verificar la instalación de MOSEK"
      ],
      "metadata": {
        "id": "BhABHtg8LSet"
      }
    },
    {
      "cell_type": "code",
      "source": [
        "# Importar las librerías requeridas\n",
        "import cvxpy as cvx\n",
        "import mosek\n",
        "\n",
        "# Verificar los solvers disponibles\n",
        "print(cvx.installed_solvers())"
      ],
      "metadata": {
        "id": "KmlMNJ3Wp20y"
      },
      "execution_count": null,
      "outputs": []
    },
    {
      "cell_type": "markdown",
      "source": [
        "# Problema inicial: problema00 resuelto con MOSEK\n",
        "\n",
        "Max Z = 8\\* x + 5\\* y\n",
        "\n",
        "   x   +   y    <=  6\n",
        "   \n",
        "   9 \\* x       + 5\\* y        < =  45\n",
        "\n",
        "   x   > = 0      \n",
        "\n",
        "   y   >=  0\n",
        "\n",
        "**x, y enteros**"
      ],
      "metadata": {
        "id": "UYsRyFLamBqQ"
      }
    },
    {
      "cell_type": "markdown",
      "source": [
        "## Solución del problema00 con MOSEK"
      ],
      "metadata": {
        "id": "wzV4jJCWY9of"
      }
    },
    {
      "cell_type": "code",
      "source": [
        "# Importar las librerías que se van a utilizar\n",
        "import cvxpy as cvx\n",
        "from mosek.fusion import *\n",
        "\n",
        "# Crear las variables a optimizar y establecerlas como enteros\n",
        "x = cvx.Variable(integer=True)\n",
        "y = cvx.Variable(integer=True)\n",
        "\n",
        "# Definir la función objetivo para maximizar el ingreso\n",
        "obj = cvx.Maximize(8*x + 5*y)\n",
        "\n",
        "# Establecer las restricciones\n",
        "restricciones_msk = [\n",
        "\n",
        "# Primera restricción\n",
        "x + y <= 6,\n",
        "\n",
        "# Segunda restricción\n",
        "9*x + 5*y <= 45,\n",
        "\n",
        "# Restricciones de no negatividad\n",
        "x >= 0,\n",
        "y >= 0\n",
        "]\n",
        "\n",
        "# Configurar el problema\n",
        "prob_msk = cvx.Problem(obj, restricciones_msk)\n",
        "\n",
        "# Obtener el valor óptimo\n",
        "prob_msk.solve()\n",
        "\n",
        "# Resolver con MOSEK\n",
        "prob_msk.solve(solver=cvx.MOSEK)\n",
        "#prob_msk.solve(solver=cvx.MOSEK, verbose = True)\n",
        "\n",
        "# Mostrar el estado de la solución  con MOSEK\n",
        "print(\"Estado de la solución con MOSEK:\", prob_msk.status)\n",
        "\n",
        "print(\"Valor óptimo de la función objetivo con MOSEK:\", prob_msk.value)\n",
        "\n",
        "# Mostrar los valores óptimos de las variables de decisión con MOSEK\n",
        "print(\"Valores óptimos de las variables de decisión con \")\n",
        "print(\"Valor óptimo de x con MOSEK:\", x.value)\n",
        "print(\"Valor óptimo de y con MOSEK:\", y.value)"
      ],
      "metadata": {
        "id": "F2y6HzDNIXbK"
      },
      "execution_count": null,
      "outputs": []
    },
    {
      "cell_type": "markdown",
      "source": [
        "# Ejercicios"
      ],
      "metadata": {
        "id": "ia3dw24BZHq6"
      }
    },
    {
      "cell_type": "markdown",
      "source": [
        "## 00.\n",
        "Resuelva directamente, utilizando CVXPY, el ejemplo 9.2-1 del libro de (TAHA, 2012) página 336."
      ],
      "metadata": {
        "id": "08XSuUcAZK2n"
      }
    },
    {
      "cell_type": "code",
      "source": [],
      "metadata": {
        "id": "eR10BZQjaRjM"
      },
      "execution_count": null,
      "outputs": []
    },
    {
      "cell_type": "markdown",
      "source": [
        "## 01.\n",
        "Resuelva con MOSEK, utilizando CVXPY, el ejemplo 9.2-1 del libro de (TAHA, 2012) página 336."
      ],
      "metadata": {
        "id": "D4vzr-ANcoUe"
      }
    },
    {
      "cell_type": "code",
      "source": [],
      "metadata": {
        "id": "WbJOyqR7c4TM"
      },
      "execution_count": null,
      "outputs": []
    },
    {
      "cell_type": "markdown",
      "source": [
        "## 02.\n",
        "Resuelva directamente, utilizando CVXPY, **uno** de los cinco numerales del ejercicio 2 del conjunto de problemas 9.2a del libro de (TAHA, 2012) página 342."
      ],
      "metadata": {
        "id": "TCCMOfTjc7n0"
      }
    },
    {
      "cell_type": "code",
      "source": [],
      "metadata": {
        "id": "HV3a-DUldEJK"
      },
      "execution_count": null,
      "outputs": []
    },
    {
      "cell_type": "markdown",
      "source": [
        "## 03.\n",
        "Resuelva con MOSEK, utilizando CVXPY, **uno** de los cinco numerales del ejercicio 2 del conjunto de problemas 9.2a del libro de (TAHA, 2012) página 342.\n",
        "\n",
        "Sugerencia: utilice el mismo numeral utilizado en el ejercicio 02."
      ],
      "metadata": {
        "id": "9Ei2tKLdas7d"
      }
    },
    {
      "cell_type": "code",
      "source": [],
      "metadata": {
        "id": "CbtbB7TvbLCO"
      },
      "execution_count": null,
      "outputs": []
    }
  ]
}