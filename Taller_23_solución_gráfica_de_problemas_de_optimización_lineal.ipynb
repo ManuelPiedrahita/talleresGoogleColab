{
  "nbformat": 4,
  "nbformat_minor": 0,
  "metadata": {
    "colab": {
      "provenance": [],
      "toc_visible": true,
      "include_colab_link": true
    },
    "kernelspec": {
      "name": "python3",
      "display_name": "Python 3"
    }
  },
  "cells": [
    {
      "cell_type": "markdown",
      "metadata": {
        "id": "view-in-github",
        "colab_type": "text"
      },
      "source": [
        "<a href=\"https://colab.research.google.com/github/gabrielawad/talleresGoogleColab/blob/main/Taller_23_soluci%C3%B3n_gr%C3%A1fica_de_problemas_de_optimizaci%C3%B3n_lineal.ipynb\" target=\"_parent\"><img src=\"https://colab.research.google.com/assets/colab-badge.svg\" alt=\"Open In Colab\"/></a>"
      ]
    },
    {
      "cell_type": "markdown",
      "source": [
        "## «*En el fondo de toda gran impotencia encontramos un sentimiento de tranquilidad*».\n",
        "### [Marguerite Yourcenar](https://es.wikipedia.org/wiki/Marguerite_Yourcenar)"
      ],
      "metadata": {
        "id": "cr-wZpWhC2dt"
      }
    },
    {
      "metadata": {
        "id": "tpFFfpLa7D_R"
      },
      "cell_type": "markdown",
      "source": [
        "# Taller 23 solución gráfica de problemas de optimización lineal\n",
        "\n",
        "En este taller se abordará la solución gráfica de problemas de optimización lineal.\n",
        "\n",
        "Se utilizara la librería: [matplotlib](https://matplotlib.org/) que **no es una librería nativa** de Python por lo que **requiere ser instalada antes de ser invocada**. Sin embargo, esta librería sí está preinstalada en Google Colaboratory por lo que basta invocarla para poder usar sus funcionalidades."
      ]
    },
    {
      "cell_type": "markdown",
      "source": [
        "## Solución gráfica de un problema de maximización\n",
        "\n",
        "Resolver el siguiente ejercicio de forma gráfica.\n",
        "\n",
        "Maximizar Z = 3x + 2y\n",
        "\n",
        "Sujeto a:\n",
        "\n",
        "2x +   y <= 20\n",
        "\n",
        " 4x + 3y <= 50\n",
        "\n",
        "x >= 0\n",
        "\n",
        "y >= 0"
      ],
      "metadata": {
        "id": "B3eB9BQ_w4-u"
      }
    },
    {
      "cell_type": "markdown",
      "source": [
        "### Gráfica de las restricciones"
      ],
      "metadata": {
        "id": "-8v_wsTe9w8W"
      }
    },
    {
      "cell_type": "code",
      "source": [
        "# Importar las librerías requeridas\n",
        "import numpy as np\n",
        "import matplotlib.pyplot as plt\n",
        "\n",
        "# Generar valores de x para el dominio\n",
        "# El valor mínimo del dominio es el intercepto con el eje Y y el valor máximo\n",
        "# del dominio se establece en el menor intercepto de la restriccion con el eje X\n",
        "x = np.arange(0, 10.2, 0.1)\n",
        "\n",
        "# Calcular los valores de y para cada restricción\n",
        "# Restricción 1\n",
        "y1 = 20 - 2*x\n",
        "\n",
        "# Restricción 2\n",
        "y2 = (50 - 4*x)/3\n",
        "\n",
        "# Etiquetar cada uno de los ejes\n",
        "plt.xlabel('x')\n",
        "plt.ylabel('y')\n",
        "\n",
        "# Establecer el título de la gráfica\n",
        "plt.title('Gráficas de las restricciones')\n",
        "\n",
        "# Graficar las restricciones\n",
        "plt.plot(x, y1, label='restricción 1 = 2x + y <= 20')\n",
        "\n",
        "plt.plot(x, y2, label='restricción 2 = 4x + 3y <= 50')\n",
        "\n",
        "# Mostrar la leyenda con los nombres de las restricciones\n",
        "plt.legend()\n",
        "\n",
        "# Visualizar el cuadrante de la gráfica\n",
        "plt.grid(True)\n",
        "\n",
        "# Mostrar los resultados\n",
        "plt.show()"
      ],
      "metadata": {
        "id": "qHwEQRNZw9p5"
      },
      "execution_count": null,
      "outputs": []
    },
    {
      "cell_type": "markdown",
      "source": [
        "### Gráfica de las áreas de las restricciones"
      ],
      "metadata": {
        "id": "Y2OcevNp95jg"
      }
    },
    {
      "cell_type": "code",
      "source": [
        "# Importar las librerías requeridas\n",
        "import numpy as np\n",
        "import matplotlib.pyplot as plt\n",
        "\n",
        "def min_entre_expresiones(dominio):\n",
        "    \"\"\"\n",
        "    Calcula el mínimo entre dos expresiones matemáticas para todos los valores\n",
        "    en el dominio establecido.\n",
        "\n",
        "    Returns:\n",
        "        una lista con los valores mínimo correspondientes.\n",
        "    \"\"\"\n",
        "    # Calcular los valores de y para cada restricción\n",
        "    minimos = []\n",
        "    for x in dominio:\n",
        "        y1 = 20 - 2 * x\n",
        "        y2 = (50 - 4 * x) / 3\n",
        "        minimos.append(min(y1, y2))\n",
        "    return minimos\n",
        "\n",
        "# Generar valores de x para el dominio\n",
        "# El valor mínimo del dominio es el intercepto con el eje Y y el valor máximo\n",
        "# del dominio se establece en el menor intercepto de la restriccion con el eje X\n",
        "x = np.arange(0, 10.2, 0.1)\n",
        "\n",
        "# Invocar la función para calcular los minimos\n",
        "min_valor = min_entre_expresiones(x)\n",
        "\n",
        "# Calcular los valores de y para cada restricción\n",
        "# Restricción 1\n",
        "y1 = 20 - 2*x\n",
        "\n",
        "# Restricción 2\n",
        "y2 = (50 - 4*x)/3\n",
        "\n",
        "# Etiquetar cada uno de los ejes\n",
        "plt.xlabel('x')\n",
        "plt.ylabel('y')\n",
        "\n",
        "# Establecer el título de la gráfica\n",
        "plt.title('Gráficas de las restricciones')\n",
        "\n",
        "# Graficar las restricciones\n",
        "plt.plot(x, y1, label='restricción 1 = 2x + y <= 20')\n",
        "\n",
        "plt.plot(x, y2, label='restricción 2 = 4x + 3y <= 50')\n",
        "\n",
        "# Grafica el área entre y1 y y2\n",
        "#plt.fill_between(x, y1, color='blue')\n",
        "#plt.fill_between(x, y2, color='orange')\n",
        "#plt.fill_between(x, min_valor, color='red')\n",
        "\n",
        "# Ajustar el relleno de la figura para mejorar la visualización\n",
        "plt.tight_layout()\n",
        "\n",
        "# Mostrar la leyenda con los nombres de las restricciones\n",
        "plt.legend()\n",
        "\n",
        "# Visualizar el cuadrante de la gráfica\n",
        "plt.grid(True)\n",
        "\n",
        "# Mostrar los resultados\n",
        "plt.show()"
      ],
      "metadata": {
        "id": "lkDMFYQs-VoL"
      },
      "execution_count": null,
      "outputs": []
    },
    {
      "cell_type": "markdown",
      "source": [
        "## Solución gráfica de un problema de minimización\n",
        "\n",
        "Resolver el siguiente ejercicio de forma gráfica.\n",
        "\n",
        "Minimizar Z = 20x + 50y\n",
        "\n",
        "Sujeto a:\n",
        "\n",
        "2x + 4y >= 3\n",
        "\n",
        "x + 3y >= 2\n",
        "\n",
        "x >= 0\n",
        "\n",
        "y >= 0"
      ],
      "metadata": {
        "id": "q5jZ9XCZwi-A"
      }
    },
    {
      "cell_type": "markdown",
      "source": [
        "### Gráfica de las restricciones"
      ],
      "metadata": {
        "id": "XnKqhiny0Fh0"
      }
    },
    {
      "cell_type": "code",
      "source": [
        "# Importar las librerías requeridas\n",
        "import numpy as np\n",
        "import matplotlib.pyplot as plt\n",
        "\n",
        "# Generar valores de x para el dominio\n",
        "# El valor mínimo del dominio es el intercepto con el eje Y y el valor máximo\n",
        "# del dominio se establece en el menor intercepto de la restriccion con el eje X\n",
        "x = np.arange(0, 1, 0.1)\n",
        "\n",
        "# Calcular los valores de b para cada restricción\n",
        "# Restricción 1\n",
        "y1 = (3 - 2*x)/4\n",
        "\n",
        "# Restricción 2\n",
        "y2 = (2 - x)/3\n",
        "\n",
        "# Etiquetar cada uno de los ejes\n",
        "plt.xlabel('x')\n",
        "plt.ylabel('y')\n",
        "\n",
        "# Establecer el título de la gráfica\n",
        "plt.title('Gráficas de las restricciones')\n",
        "\n",
        "# Graficar las restricciones\n",
        "plt.plot(x, y1, label='restricción 1 = 2x + 4y >= 3')\n",
        "\n",
        "plt.plot(x, y2, label='restricción 2 = 1x + 3y >= 2')\n",
        "\n",
        "# Mostrar la leyenda con los nombres de las restricciones\n",
        "plt.legend()\n",
        "\n",
        "# Visualizar el cuadrante de la gráfica\n",
        "plt.grid(True)"
      ],
      "metadata": {
        "id": "WNjlORsP0MRX"
      },
      "execution_count": null,
      "outputs": []
    },
    {
      "cell_type": "markdown",
      "source": [
        "### Gráfica de las áreas de las restricciones"
      ],
      "metadata": {
        "id": "7dZHRkbr2Jxs"
      }
    },
    {
      "cell_type": "code",
      "source": [
        "# Importar las librerías requeridas\n",
        "import numpy as np\n",
        "import matplotlib.pyplot as plt\n",
        "\n",
        "def max_entre_expresiones(dominio):\n",
        "    \"\"\"\n",
        "    Calcula el máximo entre dos expresiones matemáticas para todos los valores\n",
        "    en el dominio establecido.\n",
        "\n",
        "    Returns:\n",
        "        una lista con los valores máximos correspondientes.\n",
        "    \"\"\"\n",
        "    # Calcular los valores de y para cada restricción\n",
        "    maximos = []\n",
        "    for x in dominio:\n",
        "        y1 = (3 - 2*x)/4\n",
        "        y2 = (2 - x)/3\n",
        "        maximos.append(max(y1, y2))\n",
        "    return maximos\n",
        "\n",
        "# Generar valores de x para el dominio\n",
        "# El valor mínimo del dominio es el intercepto con el eje Y y el valor máximo\n",
        "# del dominio se establece en el menor intercepto de la restriccion con el eje X\n",
        "x = np.arange(0, 1, 0.1)\n",
        "\n",
        "# Invocar la función para calcular los máximos\n",
        "max_valor = max_entre_expresiones(x)\n",
        "\n",
        "# Calcular los valores de y para cada restricción\n",
        "# Restricción 1\n",
        "y1 = (3 - 2*x)/4\n",
        "\n",
        "# Restricción 2\n",
        "y2 = (2 - x)/3\n",
        "\n",
        "# Restricción ficticia para crear un «techo» a la gráfica\n",
        "y3 = (10 - 2*x)/4\n",
        "\n",
        "# Etiquetar cada uno de los ejes\n",
        "plt.xlabel('x')\n",
        "plt.ylabel('y')\n",
        "\n",
        "# Establecer el título de la gráfica\n",
        "plt.title('Gráficas de las restricciones')\n",
        "\n",
        "# Graficar las restricciones\n",
        "plt.plot(x, y1, label='restricción 1 = 2x + 4y >= 3')\n",
        "\n",
        "plt.plot(x, y2, label='restricción 2 = 1x + 3y >= 2')\n",
        "\n",
        "# Graficar el área que cumple la restricción\n",
        "#plt.fill_between(x, y1, y3, color='blue')\n",
        "#plt.fill_between(x, y2, y3, color='orange')\n",
        "#plt.fill_between(x, max_valor, y3, color='red')\n",
        "\n",
        "# Ajustar el relleno de la figura para mejorar la visualización\n",
        "plt.tight_layout()\n",
        "\n",
        "# Mostrar la leyenda con los nombres de las restricciones\n",
        "plt.legend()\n",
        "\n",
        "# Visualizar el cuadrante de la gráfica\n",
        "plt.grid(True)\n",
        "\n",
        "# Mostrar los resultados\n",
        "plt.show()"
      ],
      "metadata": {
        "id": "L99prqmO4qx2"
      },
      "execution_count": null,
      "outputs": []
    },
    {
      "cell_type": "markdown",
      "source": [
        "# Ejercicios\n",
        "\n",
        "Resolver los siguientes ejercicios de forma gráfica."
      ],
      "metadata": {
        "id": "hfp66KZgVdSA"
      }
    },
    {
      "cell_type": "markdown",
      "source": [
        "## Ejercicio 00\n",
        "\n",
        "Maximizar  Z: 3x + 2y\n",
        "\n",
        "   sujeto a:\n",
        "\n",
        "   2x + y <= 10\n",
        "\n",
        "   x + 3y <= 12\n",
        "\n",
        "   x >= 0\n",
        "   \n",
        "   y >= 0\n",
        "\n",
        "\n",
        "\n",
        "\n"
      ],
      "metadata": {
        "id": "4kpeP548VfWv"
      }
    },
    {
      "cell_type": "code",
      "source": [
        "# Resuelva en esta celda el ejercicio\n"
      ],
      "metadata": {
        "id": "n2v2uvLkZD0s"
      },
      "execution_count": null,
      "outputs": []
    },
    {
      "cell_type": "markdown",
      "source": [
        "## Ejercicio 01\n",
        "\n",
        "Minimizar  Z: 2x + 3y\n",
        "\n",
        "   sujeto a:\n",
        "\n",
        "   3x + y >= 6\n",
        "\n",
        "   2x + 2y >= 8\n",
        "\n",
        "   x >= 0\n",
        "\n",
        "   y >= 0\n",
        "\n"
      ],
      "metadata": {
        "id": "AWpJFnkfZE8X"
      }
    },
    {
      "cell_type": "code",
      "source": [
        "# Resuelva en esta celda el ejercicio\n"
      ],
      "metadata": {
        "id": "nEHnjFNraLvf"
      },
      "execution_count": null,
      "outputs": []
    },
    {
      "cell_type": "markdown",
      "source": [
        "## Ejercicio 02\n",
        "\n",
        "Maximizar  Z: 4x + 3y\n",
        "\n",
        "   sujeto a:\n",
        "\n",
        "   3x + 2y <= 15\n",
        "\n",
        "   2x + 4y <= 12\n",
        "\n",
        "   x >= 0\n",
        "\n",
        "   y >= 0"
      ],
      "metadata": {
        "id": "0hEyKcvlaM1p"
      }
    },
    {
      "cell_type": "code",
      "source": [
        "# Resuelva en esta celda el ejercicio\n"
      ],
      "metadata": {
        "id": "yN0MvrQ4ao7v"
      },
      "execution_count": null,
      "outputs": []
    },
    {
      "cell_type": "markdown",
      "source": [
        "## Ejercicio 03\n",
        "\n",
        "Minimizar  Z: 4x + 2y\n",
        "\n",
        "   sujeto a:\n",
        "\n",
        "   x + 3y >= 9\n",
        "\n",
        "   2x + y >= 8\n",
        "\n",
        "   x >= 0\n",
        "\n",
        "   y >= 0"
      ],
      "metadata": {
        "id": "qj50yF_aP_yM"
      }
    },
    {
      "cell_type": "code",
      "source": [
        "# Resuelva en esta celda el ejercicio\n"
      ],
      "metadata": {
        "id": "YDbBS606QSxx"
      },
      "execution_count": null,
      "outputs": []
    },
    {
      "cell_type": "markdown",
      "source": [
        "## Ejercicio 04\n",
        "\n",
        "Maximizar  Z: 5x + 4y\n",
        "\n",
        "   sujeto a:\n",
        "\n",
        "   x + y <= 8\n",
        "\n",
        "   2x + 3y <= 15\n",
        "\n",
        "   x >= 0\n",
        "   \n",
        "   y >= 0\n"
      ],
      "metadata": {
        "id": "4852xGV9QBaQ"
      }
    },
    {
      "cell_type": "code",
      "source": [
        "# Resuelva en esta celda el ejercicio\n"
      ],
      "metadata": {
        "id": "xNrof7kmQUED"
      },
      "execution_count": null,
      "outputs": []
    },
    {
      "cell_type": "markdown",
      "source": [
        "## Ejercicio 05\n",
        "\n",
        "Minimizar  Z: 3x + 4y\n",
        "\n",
        "   sujeto a:\n",
        "\n",
        "   x + 2y >= 5\n",
        "\n",
        "   2x + y >= 7\n",
        "\n",
        "   x >= 0\n",
        "\n",
        "   y >= 0"
      ],
      "metadata": {
        "id": "ztj4sS1hQDtc"
      }
    },
    {
      "cell_type": "code",
      "source": [
        "# Resuelva en esta celda el ejercicio\n"
      ],
      "metadata": {
        "id": "jg0TczRIQVsk"
      },
      "execution_count": null,
      "outputs": []
    },
    {
      "cell_type": "markdown",
      "source": [
        "## Ejercicio 06\n",
        "\n",
        "Maximizar  Z: 2x + 5y\n",
        "\n",
        "   sujeto a:\n",
        "\n",
        "   x + 2y <= 6\n",
        "\n",
        "   3x + y <= 9\n",
        "\n",
        "   x >= 0\n",
        "   \n",
        "   y >= 0\n"
      ],
      "metadata": {
        "id": "hATd-LMUQGP_"
      }
    },
    {
      "cell_type": "code",
      "source": [
        "# Resuelva en esta celda el ejercicio\n"
      ],
      "metadata": {
        "id": "KWFwRqE7QX0H"
      },
      "execution_count": null,
      "outputs": []
    },
    {
      "cell_type": "markdown",
      "source": [
        "## Ejercicio 07\n",
        "\n",
        "Minimizar  Z: x + 2y\n",
        "\n",
        "   sujeto a:\n",
        "\n",
        "   2x + y >= 10\n",
        "\n",
        "   x + 3y >= 12\n",
        "\n",
        "   x >= 0\n",
        "   \n",
        "   y >= 0\n"
      ],
      "metadata": {
        "id": "ZNOMGOKfQHkc"
      }
    },
    {
      "cell_type": "code",
      "source": [
        "# Resuelva en esta celda el ejercicio\n"
      ],
      "metadata": {
        "id": "EFyBSu0OQZ5X"
      },
      "execution_count": null,
      "outputs": []
    },
    {
      "cell_type": "markdown",
      "source": [
        "## Ejercicio 08\n",
        "\n",
        "Maximizar  Z: x + 3y\n",
        "\n",
        "   sujeto a:\n",
        "\n",
        "   x + y <= 5\n",
        "\n",
        "   2x + 2y <= 10\n",
        "\n",
        "   x + 2y <= 8\n",
        "\n",
        "   x >= 0\n",
        "\n",
        "   y >= 0"
      ],
      "metadata": {
        "id": "k1SR_Y-RQJC1"
      }
    },
    {
      "cell_type": "code",
      "source": [
        "# Resuelva en esta celda el ejercicio\n"
      ],
      "metadata": {
        "id": "1Wky-Hp7Qa1P"
      },
      "execution_count": null,
      "outputs": []
    },
    {
      "cell_type": "markdown",
      "source": [
        "## Ejercicio 09\n",
        "\n",
        "Minimizar  Z: 2x + y\n",
        "\n",
        "   sujeto a:\n",
        "\n",
        "   x + y >= 6\n",
        "\n",
        "   2x + 3y >= 12\n",
        "\n",
        "   x + 2y >= 8\n",
        "\n",
        "   x >= 0\n",
        "   \n",
        "   y >= 0\n"
      ],
      "metadata": {
        "id": "VlxrpT47QKdX"
      }
    },
    {
      "cell_type": "code",
      "source": [
        "# Resuelva en esta celda el ejercicio\n"
      ],
      "metadata": {
        "id": "lwx5c9ecQeTD"
      },
      "execution_count": null,
      "outputs": []
    }
  ]
}